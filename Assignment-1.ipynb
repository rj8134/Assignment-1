{
 "cells": [
  {
   "cell_type": "code",
   "execution_count": 4,
   "id": "3a2c885e-f5df-4a8e-9fb8-f020c82b7687",
   "metadata": {},
   "outputs": [],
   "source": [
    "# 1 question\n",
    "a=('Rahul',[1,2,3],23.8,(4,5))\n"
   ]
  },
  {
   "cell_type": "code",
   "execution_count": null,
   "id": "4f66af43-6453-43b1-a7a8-11d978a445be",
   "metadata": {},
   "outputs": [],
   "source": [
    "# 2question\n",
    "var1=string\n",
    "var2=string\n",
    "var3=list\n",
    "var4=float"
   ]
  },
  {
   "cell_type": "code",
   "execution_count": 14,
   "id": "02ac043c-ef4b-44d2-9938-03080f483e44",
   "metadata": {},
   "outputs": [],
   "source": [
    "#3 question\n",
    "a=10/5      # division\n",
    "b=10%5      # remainder\n",
    "c=10//5      #floor division\n",
    "d=10**5     #power of"
   ]
  },
  {
   "cell_type": "code",
   "execution_count": 15,
   "id": "51a9151a-e208-4c2e-80d4-86142b738464",
   "metadata": {},
   "outputs": [
    {
     "data": {
      "text/plain": [
       "2.0"
      ]
     },
     "execution_count": 15,
     "metadata": {},
     "output_type": "execute_result"
    }
   ],
   "source": [
    "a\n"
   ]
  },
  {
   "cell_type": "code",
   "execution_count": 11,
   "id": "7fbee098-98ba-4ff3-8aae-3ae63a37c727",
   "metadata": {},
   "outputs": [
    {
     "data": {
      "text/plain": [
       "0"
      ]
     },
     "execution_count": 11,
     "metadata": {},
     "output_type": "execute_result"
    }
   ],
   "source": [
    "b"
   ]
  },
  {
   "cell_type": "code",
   "execution_count": 16,
   "id": "d7d8a725-018d-4a0c-8b17-4fb5a38defd6",
   "metadata": {},
   "outputs": [
    {
     "data": {
      "text/plain": [
       "2"
      ]
     },
     "execution_count": 16,
     "metadata": {},
     "output_type": "execute_result"
    }
   ],
   "source": [
    "c"
   ]
  },
  {
   "cell_type": "code",
   "execution_count": 13,
   "id": "e31a294c-d57f-4efe-9dfa-8fc79eb5bc44",
   "metadata": {},
   "outputs": [
    {
     "data": {
      "text/plain": [
       "100000"
      ]
     },
     "execution_count": 13,
     "metadata": {},
     "output_type": "execute_result"
    }
   ],
   "source": [
    "d"
   ]
  },
  {
   "cell_type": "code",
   "execution_count": 23,
   "id": "22b9df42-e164-4b6e-98f2-44efc178fe40",
   "metadata": {},
   "outputs": [
    {
     "name": "stdout",
     "output_type": "stream",
     "text": [
      "1\n",
      "<class 'int'>\n",
      "3\n",
      "<class 'int'>\n",
      "6\n",
      "<class 'int'>\n",
      "7.8\n",
      "<class 'float'>\n",
      "Rahul\n",
      "<class 'str'>\n",
      "45.7\n",
      "<class 'float'>\n",
      "1j\n",
      "<class 'complex'>\n",
      "(1, 2, 3)\n",
      "<class 'tuple'>\n",
      "{1: 5, 6: 7}\n",
      "<class 'dict'>\n",
      "{4, 6}\n",
      "<class 'set'>\n"
     ]
    }
   ],
   "source": [
    "# 4question\n",
    "list=[1,3,6,7.8,'Rahul',45.7,1j,(1,2,3),{1:5,6:7},{4,6}]\n",
    "for i in list:\n",
    "    print(i)\n",
    "    print(type(i))\n",
    "      "
   ]
  },
  {
   "cell_type": "code",
   "execution_count": 1,
   "id": "df45bb52-0267-4b51-a5f0-2a727acb1403",
   "metadata": {},
   "outputs": [
    {
     "name": "stdin",
     "output_type": "stream",
     "text": [
      "Enter the numerator a: 10\n",
      "Enter the denominator b: 5\n"
     ]
    },
    {
     "name": "stdout",
     "output_type": "stream",
     "text": [
      "2\n"
     ]
    }
   ],
   "source": [
    "# 5Question\n",
    "a=int(input(\"Enter the numerator a:\"))\n",
    "b=int(input(\"Enter the denominator b:\"))\n",
    "while a%b==0:\n",
    "    print(a//b)\n",
    "    break\n",
    "      \n",
    "      \n",
    "\n"
   ]
  },
  {
   "cell_type": "code",
   "execution_count": null,
   "id": "98dd0baf-abc2-4a99-98a1-0ddc7e63da00",
   "metadata": {},
   "outputs": [],
   "source": [
    "# 6Question\n",
    "list1=range(25)\n",
    "print(list1)\n",
    "for i in list1:\n",
    "    if list1[i]%3==0:\n",
    "        print(i,\"is divisible by 3\")\n",
    "    else:\n",
    "        print(i,\"is not divisible by 3\")\n"
   ]
  },
  {
   "cell_type": "code",
   "execution_count": 5,
   "id": "433dde98-c691-4adf-a8ec-889abf383131",
   "metadata": {},
   "outputs": [
    {
     "name": "stdout",
     "output_type": "stream",
     "text": [
      "[2, 4, 7, 8]\n"
     ]
    },
    {
     "ename": "TypeError",
     "evalue": "'tuple' object does not support item assignment",
     "output_type": "error",
     "traceback": [
      "\u001b[0;31m---------------------------------------------------------------------------\u001b[0m",
      "\u001b[0;31mTypeError\u001b[0m                                 Traceback (most recent call last)",
      "Cell \u001b[0;32mIn[5], line 8\u001b[0m\n\u001b[1;32m      6\u001b[0m \u001b[38;5;28mprint\u001b[39m(list2)\n\u001b[1;32m      7\u001b[0m tup\u001b[38;5;241m=\u001b[39m(\u001b[38;5;241m2\u001b[39m,\u001b[38;5;241m5\u001b[39m,\u001b[38;5;241m8\u001b[39m)\n\u001b[0;32m----> 8\u001b[0m \u001b[43mtup\u001b[49m\u001b[43m[\u001b[49m\u001b[38;5;241;43m1\u001b[39;49m\u001b[43m]\u001b[49m\u001b[38;5;241m=\u001b[39m\u001b[38;5;241m9\u001b[39m\n\u001b[1;32m      9\u001b[0m \u001b[38;5;28mprint\u001b[39m(tup)\n",
      "\u001b[0;31mTypeError\u001b[0m: 'tuple' object does not support item assignment"
     ]
    }
   ],
   "source": [
    "# 7question\n",
    "# mutable data types can be modified like list,dictionary and set.\n",
    "# immutable data types can not be modified once created like string and Tuple.\n",
    "list2=[2,4,6,8]\n",
    "list2[2]=7     #mutable data type\n",
    "print(list2)\n",
    "tup=(2,5,8)\n",
    "tup[1]=9       #immutable data type\n",
    "print(tup)\n"
   ]
  }
 ],
 "metadata": {
  "kernelspec": {
   "display_name": "Python 3 (ipykernel)",
   "language": "python",
   "name": "python3"
  },
  "language_info": {
   "codemirror_mode": {
    "name": "ipython",
    "version": 3
   },
   "file_extension": ".py",
   "mimetype": "text/x-python",
   "name": "python",
   "nbconvert_exporter": "python",
   "pygments_lexer": "ipython3",
   "version": "3.10.8"
  }
 },
 "nbformat": 4,
 "nbformat_minor": 5
}
